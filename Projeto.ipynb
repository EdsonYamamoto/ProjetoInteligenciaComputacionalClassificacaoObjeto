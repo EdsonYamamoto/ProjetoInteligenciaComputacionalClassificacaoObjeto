{
 "cells": [
  {
   "cell_type": "code",
   "execution_count": 7,
   "metadata": {},
   "outputs": [],
   "source": [
    "import requests"
   ]
  },
  {
   "cell_type": "code",
   "execution_count": 11,
   "metadata": {},
   "outputs": [],
   "source": [
    "def doc(url):\n",
    "    response = requests.get(url)\n",
    "    print(response.status_code)\n",
    "    print(response.text)  "
   ]
  },
  {
   "cell_type": "code",
   "execution_count": 13,
   "metadata": {},
   "outputs": [
    {
     "name": "stdout",
     "output_type": "stream",
     "text": [
      "200\n",
      "{\"@context\": \"http://iiif.io/api/presentation/2/context.json\", \"@id\": \"https://iiif.harvardartmuseums.org/manifests/object/226030\", \"@type\": \"sc:Manifest\", \"attribution\": \"Harvard Art Museums\", \"description\": \"\", \"label\": \"Menacing Head\", \"logo\": {\"@id\": \"https://ids.lib.harvard.edu/ids/iiif/437958013/full/!800,800/0/native.jpg\", \"service\": {\"@context\": \"http://iiif.io/api/image/2/context.json\", \"@id\": \"https://ids.lib.harvard.edu/ids/iiif/437958013\", \"profile\": \"http://iiif.io/api/image/2/level2.json\"}}, \"metadata\": [{\"label\": \"Date\", \"value\": \"1905\"}, {\"label\": \"Classification\", \"value\": \"Prints\"}, {\"label\": \"Credit Line\", \"value\": \"Harvard Art Museums/Busch-Reisinger Museum, Anonymous Gift\"}, {\"label\": \"Object Number\", \"value\": \"BR34.28\"}, {\"label\": \"People\", \"value\": [\"Artist: Paul Klee, Swiss, 1879 - 1940\"]}, {\"label\": \"Medium\", \"value\": \"Etching printed in black ink on off-white wove paper\"}, {\"label\": \"Technique\", \"value\": \"Etching\"}, {\"label\": \"Dimensions\", \"value\": \"plate: 20.6 x 15.4 cm (8 1/8 x 6 1/16 in.)\\r\\nsheet: 42.2 x 32.3 cm (16 5/8 x 12 11/16 in.)\"}, {\"label\": \"Copyright\", \"value\": \"\\u00a9 Artists Rights Society (ARS), New York / VG Bild-Kunst, Bonn\"}], \"rendering\": {\"@id\": \"https://www.harvardartmuseums.org/collections/object/226030\", \"format\": \"text/html\", \"label\": \"Full record view\"}, \"sequences\": [{\"@id\": \"https://iiif.harvardartmuseums.org/manifests/object/226030/sequence/normal\", \"@type\": \"sc:Sequence\", \"canvases\": [], \"viewingHint\": \"individuals\"}], \"thumbnail\": {\"@id\": \"/full/!170,170/0/native.jpg\", \"service\": {\"@context\": \"http://iiif.io/api/image/2/context.json\", \"@id\": \"\", \"profile\": \"http://iiif.io/api/image/2/level2.json\"}}, \"within\": \"https://www.harvardartmuseums.org/collections\"}\n"
     ]
    }
   ],
   "source": [
    "doc(\"https://iiif.harvardartmuseums.org/manifests/object/226030\")"
   ]
  },
  {
   "cell_type": "code",
   "execution_count": null,
   "metadata": {},
   "outputs": [],
   "source": []
  },
  {
   "cell_type": "code",
   "execution_count": null,
   "metadata": {},
   "outputs": [],
   "source": []
  }
 ],
 "metadata": {
  "kernelspec": {
   "display_name": "Python 3",
   "language": "python",
   "name": "python3"
  },
  "language_info": {
   "codemirror_mode": {
    "name": "ipython",
    "version": 3
   },
   "file_extension": ".py",
   "mimetype": "text/x-python",
   "name": "python",
   "nbconvert_exporter": "python",
   "pygments_lexer": "ipython3",
   "version": "3.7.1"
  }
 },
 "nbformat": 4,
 "nbformat_minor": 2
}
