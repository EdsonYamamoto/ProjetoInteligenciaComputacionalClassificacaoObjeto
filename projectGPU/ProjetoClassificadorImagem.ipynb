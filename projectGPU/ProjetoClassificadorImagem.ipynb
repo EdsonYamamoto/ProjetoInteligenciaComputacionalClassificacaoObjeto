{
 "cells": [
  {
   "cell_type": "code",
   "execution_count": 1,
   "metadata": {},
   "outputs": [
    {
     "name": "stderr",
     "output_type": "stream",
     "text": [
      "Using TensorFlow backend.\n",
      "C:\\ProgramData\\Anaconda3\\envs\\DeepLearning\\lib\\site-packages\\tensorflow\\python\\framework\\dtypes.py:516: FutureWarning: Passing (type, 1) or '1type' as a synonym of type is deprecated; in a future version of numpy, it will be understood as (type, (1,)) / '(1,)type'.\n",
      "  _np_qint8 = np.dtype([(\"qint8\", np.int8, 1)])\n",
      "C:\\ProgramData\\Anaconda3\\envs\\DeepLearning\\lib\\site-packages\\tensorflow\\python\\framework\\dtypes.py:517: FutureWarning: Passing (type, 1) or '1type' as a synonym of type is deprecated; in a future version of numpy, it will be understood as (type, (1,)) / '(1,)type'.\n",
      "  _np_quint8 = np.dtype([(\"quint8\", np.uint8, 1)])\n",
      "C:\\ProgramData\\Anaconda3\\envs\\DeepLearning\\lib\\site-packages\\tensorflow\\python\\framework\\dtypes.py:518: FutureWarning: Passing (type, 1) or '1type' as a synonym of type is deprecated; in a future version of numpy, it will be understood as (type, (1,)) / '(1,)type'.\n",
      "  _np_qint16 = np.dtype([(\"qint16\", np.int16, 1)])\n",
      "C:\\ProgramData\\Anaconda3\\envs\\DeepLearning\\lib\\site-packages\\tensorflow\\python\\framework\\dtypes.py:519: FutureWarning: Passing (type, 1) or '1type' as a synonym of type is deprecated; in a future version of numpy, it will be understood as (type, (1,)) / '(1,)type'.\n",
      "  _np_quint16 = np.dtype([(\"quint16\", np.uint16, 1)])\n",
      "C:\\ProgramData\\Anaconda3\\envs\\DeepLearning\\lib\\site-packages\\tensorflow\\python\\framework\\dtypes.py:520: FutureWarning: Passing (type, 1) or '1type' as a synonym of type is deprecated; in a future version of numpy, it will be understood as (type, (1,)) / '(1,)type'.\n",
      "  _np_qint32 = np.dtype([(\"qint32\", np.int32, 1)])\n",
      "C:\\ProgramData\\Anaconda3\\envs\\DeepLearning\\lib\\site-packages\\tensorflow\\python\\framework\\dtypes.py:525: FutureWarning: Passing (type, 1) or '1type' as a synonym of type is deprecated; in a future version of numpy, it will be understood as (type, (1,)) / '(1,)type'.\n",
      "  np_resource = np.dtype([(\"resource\", np.ubyte, 1)])\n",
      "C:\\ProgramData\\Anaconda3\\envs\\DeepLearning\\lib\\site-packages\\tensorboard\\compat\\tensorflow_stub\\dtypes.py:541: FutureWarning: Passing (type, 1) or '1type' as a synonym of type is deprecated; in a future version of numpy, it will be understood as (type, (1,)) / '(1,)type'.\n",
      "  _np_qint8 = np.dtype([(\"qint8\", np.int8, 1)])\n",
      "C:\\ProgramData\\Anaconda3\\envs\\DeepLearning\\lib\\site-packages\\tensorboard\\compat\\tensorflow_stub\\dtypes.py:542: FutureWarning: Passing (type, 1) or '1type' as a synonym of type is deprecated; in a future version of numpy, it will be understood as (type, (1,)) / '(1,)type'.\n",
      "  _np_quint8 = np.dtype([(\"quint8\", np.uint8, 1)])\n",
      "C:\\ProgramData\\Anaconda3\\envs\\DeepLearning\\lib\\site-packages\\tensorboard\\compat\\tensorflow_stub\\dtypes.py:543: FutureWarning: Passing (type, 1) or '1type' as a synonym of type is deprecated; in a future version of numpy, it will be understood as (type, (1,)) / '(1,)type'.\n",
      "  _np_qint16 = np.dtype([(\"qint16\", np.int16, 1)])\n",
      "C:\\ProgramData\\Anaconda3\\envs\\DeepLearning\\lib\\site-packages\\tensorboard\\compat\\tensorflow_stub\\dtypes.py:544: FutureWarning: Passing (type, 1) or '1type' as a synonym of type is deprecated; in a future version of numpy, it will be understood as (type, (1,)) / '(1,)type'.\n",
      "  _np_quint16 = np.dtype([(\"quint16\", np.uint16, 1)])\n",
      "C:\\ProgramData\\Anaconda3\\envs\\DeepLearning\\lib\\site-packages\\tensorboard\\compat\\tensorflow_stub\\dtypes.py:545: FutureWarning: Passing (type, 1) or '1type' as a synonym of type is deprecated; in a future version of numpy, it will be understood as (type, (1,)) / '(1,)type'.\n",
      "  _np_qint32 = np.dtype([(\"qint32\", np.int32, 1)])\n",
      "C:\\ProgramData\\Anaconda3\\envs\\DeepLearning\\lib\\site-packages\\tensorboard\\compat\\tensorflow_stub\\dtypes.py:550: FutureWarning: Passing (type, 1) or '1type' as a synonym of type is deprecated; in a future version of numpy, it will be understood as (type, (1,)) / '(1,)type'.\n",
      "  np_resource = np.dtype([(\"resource\", np.ubyte, 1)])\n"
     ]
    }
   ],
   "source": [
    "import os\n",
    "from os import listdir\n",
    "from numpy import asarray\n",
    "from numpy import save\n",
    "from keras.preprocessing.image import load_img\n",
    "from keras.preprocessing.image import img_to_array\n",
    "from sklearn.model_selection import train_test_split\n",
    "from PIL import Image\n",
    "from tensorflow.keras.layers import Conv2D\n",
    "import sys\n",
    "import numpy\n",
    "from keras.models import Sequential\n",
    "from keras.layers import Dense\n",
    "from keras.layers import Dropout\n",
    "from keras.layers import LSTM\n",
    "from keras.layers import Flatten\n",
    "from keras.layers import MaxPooling2D\n",
    "from keras.layers import Conv2D\n",
    "from keras.callbacks import EarlyStopping, ModelCheckpoint\n",
    "from keras.utils import np_utils\n",
    "import numpy as np\n",
    "# load ascii text and covert to lowercase\n",
    "from keras.models import load_model\n",
    "import matplotlib.pyplot as plt\n",
    "from keras.layers.normalization import BatchNormalization\n",
    "import math\n",
    "from sklearn.preprocessing import LabelEncoder\n",
    "from sklearn.preprocessing import OneHotEncoder\n",
    "from numpy import array\n",
    "from numpy import argmax\n",
    "from datetime import datetime\n"
   ]
  },
  {
   "cell_type": "code",
   "execution_count": 2,
   "metadata": {},
   "outputs": [],
   "source": [
    "datasetPath =\"Dataset/\"\n",
    "modelName = \"bestmodel.h5\"\n",
    "checkpoint = \"bestModelTextGen.hdf5\"\n",
    "nEpocas = 20\n",
    "steps_per_epoch = 4\n",
    "VALIDATION_SIZE = 1\n",
    "BATCH_SIZE = 32\n",
    "IMG_SIZE = 300"
   ]
  },
  {
   "cell_type": "code",
   "execution_count": 3,
   "metadata": {},
   "outputs": [
    {
     "name": "stdout",
     "output_type": "stream",
     "text": [
      "Carrega dataset\n",
      "Fim - Carrega dataset\n",
      "Ajeita os dados\n",
      "Fim - Ajeita os dados\n"
     ]
    }
   ],
   "source": [
    "#imagePath = []\n",
    "y = []\n",
    "X = []\n",
    "\n",
    "print(\"Carrega dataset\")\n",
    "for root, dirs, files in os.walk(datasetPath):\n",
    "\tfor dir in dirs:\n",
    "\t\tfor root2, dirs2, files2 in os.walk(datasetPath+dir):\n",
    "\t\t\tfor file in files2:\n",
    "\t\t\t\ty.append(dir)\n",
    "\t\t\t\tphoto = img_to_array(load_img(datasetPath+dir+\"/\"+file, target_size=(IMG_SIZE, IMG_SIZE)))\n",
    "\t\t\t\tX.append(photo)\n",
    "print(\"Fim - Carrega dataset\")\n",
    "\n",
    "print(\"Ajeita os dados\")\n",
    "X = numpy.asarray(X)\n",
    "numberClasses = len(np.unique(y))\n",
    "count = len(y)\n",
    "values = array(y)\n",
    "# integer encode\n",
    "label_encoder = LabelEncoder()\n",
    "integer_encoded = label_encoder.fit_transform(values)\n",
    "# binary encode\n",
    "onehot_encoder = OneHotEncoder(sparse=False)\n",
    "integer_encoded = integer_encoded.reshape(len(integer_encoded), 1)\n",
    "y = onehot_encoder.fit_transform(integer_encoded)\n",
    "print(\"Fim - Ajeita os dados\")\n",
    "\n",
    "X_train, X_test, y_train, y_test = train_test_split(X, y, stratify=y, test_size=0.5, random_state=42)"
   ]
  },
  {
   "cell_type": "code",
   "execution_count": 10,
   "metadata": {},
   "outputs": [
    {
     "name": "stdout",
     "output_type": "stream",
     "text": [
      "Arquitetura\n",
      "Fim - Arquitetura\n",
      "WARNING:tensorflow:From C:\\ProgramData\\Anaconda3\\envs\\DeepLearning\\lib\\site-packages\\keras\\backend\\tensorflow_backend.py:422: The name tf.global_variables is deprecated. Please use tf.compat.v1.global_variables instead.\n",
      "\n",
      "Train on 75 samples, validate on 75 samples\n",
      "Epoch 1/20\n",
      "4/4 [==============================] - 95s 24s/step - loss: 1.3631 - accuracy: 0.4733 - val_loss: 10.3131 - val_accuracy: 0.2000\n",
      "\n",
      "Epoch 00001: loss improved from inf to 1.36314, saving model to bestModelTextGen.hdf5\n",
      "Epoch 2/20\n",
      "4/4 [==============================] - 39s 10s/step - loss: 0.5336 - accuracy: 0.8567 - val_loss: 8.5541 - val_accuracy: 0.2000\n",
      "\n",
      "Epoch 00002: loss improved from 1.36314 to 0.53359, saving model to bestModelTextGen.hdf5\n",
      "Epoch 3/20\n",
      "4/4 [==============================] - 40s 10s/step - loss: 0.2812 - accuracy: 0.9367 - val_loss: 7.0210 - val_accuracy: 0.2000\n",
      "\n",
      "Epoch 00003: loss improved from 0.53359 to 0.28117, saving model to bestModelTextGen.hdf5\n",
      "Epoch 4/20\n",
      "4/4 [==============================] - 40s 10s/step - loss: 0.1435 - accuracy: 0.9667 - val_loss: 5.6911 - val_accuracy: 0.2000\n",
      "\n",
      "Epoch 00004: loss improved from 0.28117 to 0.14346, saving model to bestModelTextGen.hdf5\n",
      "Epoch 5/20\n",
      "4/4 [==============================] - 39s 10s/step - loss: 0.0802 - accuracy: 0.9833 - val_loss: 4.9765 - val_accuracy: 0.2000\n",
      "\n",
      "Epoch 00005: loss improved from 0.14346 to 0.08019, saving model to bestModelTextGen.hdf5\n",
      "Epoch 6/20\n",
      "4/4 [==============================] - 42s 10s/step - loss: 0.0454 - accuracy: 0.9900 - val_loss: 3.8941 - val_accuracy: 0.2000\n",
      "\n",
      "Epoch 00006: loss improved from 0.08019 to 0.04542, saving model to bestModelTextGen.hdf5\n",
      "Epoch 7/20\n",
      "4/4 [==============================] - 41s 10s/step - loss: 0.0322 - accuracy: 1.0000 - val_loss: 2.7880 - val_accuracy: 0.2000\n",
      "\n",
      "Epoch 00007: loss improved from 0.04542 to 0.03223, saving model to bestModelTextGen.hdf5\n",
      "Epoch 8/20\n",
      "4/4 [==============================] - 41s 10s/step - loss: 0.0213 - accuracy: 1.0000 - val_loss: 2.6576 - val_accuracy: 0.2000\n",
      "\n",
      "Epoch 00008: loss improved from 0.03223 to 0.02132, saving model to bestModelTextGen.hdf5\n",
      "Epoch 9/20\n",
      "4/4 [==============================] - 42s 10s/step - loss: 0.0143 - accuracy: 1.0000 - val_loss: 2.8901 - val_accuracy: 0.2000\n",
      "\n",
      "Epoch 00009: loss improved from 0.02132 to 0.01428, saving model to bestModelTextGen.hdf5\n",
      "Epoch 10/20\n",
      "4/4 [==============================] - 43s 11s/step - loss: 0.0134 - accuracy: 1.0000 - val_loss: 2.4033 - val_accuracy: 0.2400\n",
      "\n",
      "Epoch 00010: loss improved from 0.01428 to 0.01344, saving model to bestModelTextGen.hdf5\n",
      "Epoch 11/20\n",
      "4/4 [==============================] - 42s 10s/step - loss: 0.0065 - accuracy: 1.0000 - val_loss: 2.1166 - val_accuracy: 0.2267\n",
      "\n",
      "Epoch 00011: loss improved from 0.01344 to 0.00652, saving model to bestModelTextGen.hdf5\n",
      "Epoch 12/20\n",
      "4/4 [==============================] - 42s 10s/step - loss: 0.0057 - accuracy: 1.0000 - val_loss: 2.0986 - val_accuracy: 0.2533\n",
      "\n",
      "Epoch 00012: loss improved from 0.00652 to 0.00567, saving model to bestModelTextGen.hdf5\n",
      "Epoch 13/20\n",
      "4/4 [==============================] - 43s 11s/step - loss: 0.0043 - accuracy: 1.0000 - val_loss: 2.1107 - val_accuracy: 0.2933\n",
      "\n",
      "Epoch 00013: loss improved from 0.00567 to 0.00429, saving model to bestModelTextGen.hdf5\n",
      "Epoch 14/20\n",
      "4/4 [==============================] - 42s 10s/step - loss: 0.0047 - accuracy: 1.0000 - val_loss: 2.0609 - val_accuracy: 0.3333\n",
      "\n",
      "Epoch 00014: loss did not improve from 0.00429\n",
      "Epoch 15/20\n",
      "4/4 [==============================] - 43s 11s/step - loss: 0.0031 - accuracy: 1.0000 - val_loss: 1.9308 - val_accuracy: 0.3733\n",
      "\n",
      "Epoch 00015: loss improved from 0.00429 to 0.00314, saving model to bestModelTextGen.hdf5\n",
      "Epoch 16/20\n",
      "4/4 [==============================] - 39s 10s/step - loss: 0.0030 - accuracy: 1.0000 - val_loss: 1.7818 - val_accuracy: 0.4533\n",
      "\n",
      "Epoch 00016: loss improved from 0.00314 to 0.00296, saving model to bestModelTextGen.hdf5\n",
      "Epoch 17/20\n",
      "4/4 [==============================] - 43s 11s/step - loss: 0.0018 - accuracy: 1.0000 - val_loss: 1.6807 - val_accuracy: 0.4667\n",
      "\n",
      "Epoch 00017: loss improved from 0.00296 to 0.00183, saving model to bestModelTextGen.hdf5\n",
      "Epoch 18/20\n",
      "4/4 [==============================] - 43s 11s/step - loss: 0.0025 - accuracy: 1.0000 - val_loss: 1.5917 - val_accuracy: 0.4800\n",
      "\n",
      "Epoch 00018: loss did not improve from 0.00183\n",
      "Epoch 19/20\n",
      "4/4 [==============================] - 43s 11s/step - loss: 0.0015 - accuracy: 1.0000 - val_loss: 1.4978 - val_accuracy: 0.5200\n",
      "\n",
      "Epoch 00019: loss improved from 0.00183 to 0.00151, saving model to bestModelTextGen.hdf5\n",
      "Epoch 20/20\n",
      "4/4 [==============================] - 43s 11s/step - loss: 0.0012 - accuracy: 1.0000 - val_loss: 1.4341 - val_accuracy: 0.5200\n",
      "\n",
      "Epoch 00020: loss improved from 0.00151 to 0.00119, saving model to bestModelTextGen.hdf5\n"
     ]
    }
   ],
   "source": [
    "\n",
    "print(\"Arquitetura\")\n",
    "model = Sequential()\n",
    "model.add(Conv2D(32, kernel_size=(3, 3), activation='relu', kernel_initializer='he_uniform', padding='same', input_shape=(IMG_SIZE, IMG_SIZE, 3)))\n",
    "model.add(MaxPooling2D((2, 2)))\n",
    "model.add(BatchNormalization())\n",
    "\n",
    "model.add(Conv2D(64, kernel_size=(3,3), activation='relu'))\n",
    "model.add(MaxPooling2D(pool_size=(2,2)))\n",
    "model.add(BatchNormalization())\n",
    "\n",
    "model.add(Conv2D(128, kernel_size=(3,3), activation='relu'))\n",
    "model.add(MaxPooling2D(pool_size=(2,2)))\n",
    "model.add(BatchNormalization())\n",
    "\n",
    "model.add(Conv2D(256, kernel_size=(3,3), activation='relu'))\n",
    "model.add(MaxPooling2D(pool_size=(2,2)))\n",
    "model.add(BatchNormalization())\n",
    "\n",
    "model.add(Conv2D(128, kernel_size=(3,3), activation='relu'))\n",
    "model.add(MaxPooling2D(pool_size=(2,2)))\n",
    "model.add(BatchNormalization())\n",
    "\n",
    "model.add(Conv2D(32, kernel_size=(3,3), activation='relu'))\n",
    "model.add(MaxPooling2D(pool_size=(2,2)))\n",
    "model.add(BatchNormalization())\n",
    "\n",
    "model.add(Dropout(0.4))\n",
    "\n",
    "model.add(Flatten())\n",
    "model.add(Dense(160, activation='relu'))\n",
    "model.add(Dense(numberClasses, activation='softmax'))\n",
    "# load the network weights\n",
    "print(\"Fim - Arquitetura\")\n",
    "\n",
    "if os.path.isfile(checkpoint):\n",
    "\tmodel.load_weights(checkpoint)\n",
    "\n",
    "model.compile(loss='categorical_crossentropy', optimizer='adam', metrics = ['accuracy'])\n",
    "# define the checkpoint\n",
    "#filepath=\"weights-improvement-{epoch:02d}-{loss:.4f}-bigger.hdf5\"\n",
    "\n",
    "mc = ModelCheckpoint(checkpoint, monitor='loss', verbose=1, save_best_only=True, mode='min')\n",
    "es = EarlyStopping(monitor='val_loss', mode='min', verbose=1, patience=100, min_delta=0.000001)\n",
    "\n",
    "# fit the model\n",
    "compute_steps_per_epoch = lambda x: int(math.ceil(1. * x / BATCH_SIZE))\n",
    "val_steps = compute_steps_per_epoch(VALIDATION_SIZE)\n",
    "history = model.fit( X_train, y_train, epochs=nEpocas, steps_per_epoch=steps_per_epoch, callbacks=[es, mc], validation_steps = val_steps, validation_data=(X_test, y_test))\n"
   ]
  },
  {
   "cell_type": "code",
   "execution_count": 19,
   "metadata": {},
   "outputs": [
    {
     "data": {
      "text/plain": [
       "<module 'matplotlib.pyplot' from 'C:\\\\ProgramData\\\\Anaconda3\\\\envs\\\\DeepLearning\\\\lib\\\\site-packages\\\\matplotlib\\\\pyplot.py'>"
      ]
     },
     "execution_count": 19,
     "metadata": {},
     "output_type": "execute_result"
    },
    {
     "data": {
      "image/png": "[encoded data removed]",
      "text/plain": [
       "<Figure size 432x288 with 1 Axes>"
      ]
     },
     "metadata": {
      "needs_background": "light"
     },
     "output_type": "display_data"
    }
   ],
   "source": [
    "time = datetime.now()\n",
    "timestampStr = time.strftime(\"%d %b %Y %H %M %S %f)\")\n",
    "plt.plot(history.history['accuracy'])\n",
    "plt.plot(history.history['val_accuracy'])\n",
    "plt.title('model accuracy')\n",
    "plt.ylabel('accuracy')\n",
    "plt.xlabel('epoch')\n",
    "plt.legend(['train', 'test'], loc='upper left')\n",
    "plt"
   ]
  },
  {
   "cell_type": "code",
   "execution_count": 20,
   "metadata": {},
   "outputs": [
    {
     "data": {
      "text/plain": [
       "<Figure size 432x288 with 0 Axes>"
      ]
     },
     "metadata": {},
     "output_type": "display_data"
    }
   ],
   "source": [
    "plt.clf()\n"
   ]
  },
  {
   "cell_type": "code",
   "execution_count": 21,
   "metadata": {},
   "outputs": [
    {
     "data": {
      "text/plain": [
       "<module 'matplotlib.pyplot' from 'C:\\\\ProgramData\\\\Anaconda3\\\\envs\\\\DeepLearning\\\\lib\\\\site-packages\\\\matplotlib\\\\pyplot.py'>"
      ]
     },
     "execution_count": 21,
     "metadata": {},
     "output_type": "execute_result"
    },
    {
     "data": {
      "image/png": "[encoded data removed]",
      "text/plain": [
       "<Figure size 432x288 with 1 Axes>"
      ]
     },
     "metadata": {
      "needs_background": "light"
     },
     "output_type": "display_data"
    }
   ],
   "source": [
    "plt.plot(history.history['loss'])\n",
    "plt.plot(history.history['val_loss'])\n",
    "plt.title('model loss')\n",
    "plt.ylabel('loss')\n",
    "plt.xlabel('epoch')\n",
    "plt.legend(['train', 'test'], loc='upper left')\n",
    "plt.savefig(\"loss\"+timestampStr+\".png\")\n",
    "plt"
   ]
  },
  {
   "cell_type": "code",
   "execution_count": 22,
   "metadata": {},
   "outputs": [
    {
     "data": {
      "text/plain": [
       "<Figure size 432x288 with 0 Axes>"
      ]
     },
     "metadata": {},
     "output_type": "display_data"
    }
   ],
   "source": [
    "\n",
    "plt.clf()\n",
    "\n"
   ]
  },
  {
   "cell_type": "code",
   "execution_count": 23,
   "metadata": {},
   "outputs": [
    {
     "name": "stdout",
     "output_type": "stream",
     "text": [
      "Saved model to disk\n"
     ]
    }
   ],
   "source": [
    "\n",
    "print(\"Saved model to disk\")\n",
    "model.save(modelName)\n"
   ]
  },
  {
   "cell_type": "code",
   "execution_count": null,
   "metadata": {},
   "outputs": [],
   "source": []
  }
 ],
 "metadata": {
  "kernelspec": {
   "display_name": "Python 3",
   "language": "python",
   "name": "python3"
  },
  "language_info": {
   "codemirror_mode": {
    "name": "ipython",
    "version": 3
   },
   "file_extension": ".py",
   "mimetype": "text/x-python",
   "name": "python",
   "nbconvert_exporter": "python",
   "pygments_lexer": "ipython3",
   "version": "3.7.1"
  }
 },
 "nbformat": 4,
 "nbformat_minor": 2
}
